{
 "cells": [
  {
   "cell_type": "code",
   "execution_count": 2,
   "metadata": {},
   "outputs": [],
   "source": [
    "import create\n",
    "import grade \n",
    "import model_creator \n",
    "import predictor_extractor \n",
    "import predictor_set \n",
    "import util_functions\n",
    "import essay_set\n",
    "import feature_extractor\n",
    "\n",
    "from essay_set import EssaySet\n",
    "from feature_extractor import FeatureExtractor"
   ]
  },
  {
   "cell_type": "code",
   "execution_count": 3,
   "metadata": {},
   "outputs": [],
   "source": [
    "essay_prompts = []\n",
    "\n",
    "for i in range(1,9):\n",
    "    file = \"../prompts/set\" + str(i) + \".txt\"\n",
    "    f = open(file, \"r\")\n",
    "    essay_prompts.append(f.read())\n",
    "    \n",
    "def get_essay_prompt(essay_set):\n",
    "    return essay_prompts[essay_set-1]"
   ]
  },
  {
   "cell_type": "code",
   "execution_count": 4,
   "metadata": {},
   "outputs": [],
   "source": [
    "essay1 = \"What do you want your child being exposed to?    In my own opinion I believe that @CAPS1 shouldn't be taken off the shelfs, because kids know what books are appropriate and innappropriate for them. This @CAPS2 why the library has @CAPS3 'kids' selction away from the 'adult' selction. They know their boundaries, and I don't think a librarian would let a child check out anything innappropriate. The library @CAPS2 a place for all sorts of books for anybody to come and have the right to check them out.   Also, @CAPS3 not just librarys', @CAPS1 can be seen or heard from schools, on the radio, t.v. and video games. Any where you go they're more likely going to see innapropriate actions that take place. So as a parent @CAPS3 your job to keep your child away from the things you don't want them to see or hear as much as possible.       The only way a child can be exposed to this @CAPS2 if their parents are unattended and irresponsible. Someday your kids will ask questions about that that kind of stuff they hear or see at school from other students. Just be open and honest at the right time but in a mature clean matter.      I know alot of young children these days who are being exposed a lot from violent video games, music about drugs, alchol, and sex. @CAPS1 really bothers me, because when I was their age I had no idea what @CAPS1 even was or meant. @CAPS1's wrong for the parents to let them be around that when they know @CAPS1 has a label on @CAPS1 saying '@CAPS10 @CAPS11', '@CAPS12'  or '@NUM1'.      Every time I hear a child say something about this aweseome video game or cool new song they heard on the radio about drugs, violence and etc, the children tend to get younger and younger every time. I don't understand why parents let them be exposed to that unecessary stuff\"\n",
    "essay2 = \"I've recently read a letter from Katherine Paterson about censorship in libraries. This is my opinion expressed in words about how I feel about the whole topic.     I've been reading ever since I hit first grade. To be honest, I couldn't tell you the names of @PERCENT1 of them because... well I just can't remember them. I'd like to think that it's because I have a horrible memory, but the truth is, they were just unappealing and unmemorable books. In all aspects, these books could be considered a waste of my life. Back then, I guess I only read them because I had nothing better to do, which is horrible because you should read books because you want to. I stopped reading books at around seventh grade because every book I picked up seemed to be extremely boring and it would take the first one hundred pages to actually have something decent happen.          Luckily, there is light at the end of this tunnel. Every now and then you come across a book that changes your life. Not literally, but it feels that way at the time (which is what you should feel). These are the books I remember. These 'life-changing' books all have things in them that would interest anyone who picks them up. Unfortunately, these things would be viewed as innappropriate to a select audience. For example, one book @MONTH1 talk about murder and be viewed as highly offensive by a person whose mother had been murdered, whereas the same book could be viewed as a piece of art by someone who has escaped the terribleness of death. Apparently it has gotten to the point where people would have the books censored or have them removed the libraries completely. I can stand idle no longer.     Books all go through a long, drawn-out process before they are shelf-ready. They need to be written, read, and selected to be published. For some books, this can take years. To completely alienate these books is extremely unfair to the time that was put into them. If you don't like the books, don't read them. It's as simple as that. If that's not enough reason for you, think of it this way: a book about a child getting raped and fighting to overcome it could serve as inspiration for rape victims. Or, a book about someone's parents dying could help a child in the same situation overcome the grief.     All books serve a purpose and should remain staunch on the shelves of local book stores, regardless of the methods used in them. Even if they don't appeal to you, it could be a completely different experience for someone else halfway across the world. Let these books serve their purpose.\"\n",
    "essay3 = \"Do you believe that certain materials, such as books, movies, magazines, etc ...,should be removed from the shelves if they are found offensive?   Most of the people made books that are inapropiate or offensive and sometimes are the life of the person or some experience that they have live. But the problem is that a lot of people are not realistic and they don't thing that those is the live of person's and can be the future of more people.Peple sometimes like to be the best and can make problems with other and that mekes them happy that is a sad thing because that's bad and also they can get of the point of do things so bad that they go to jail that's are some of the experiences that people shows  but others get it wrong. well thats their problem they can do what ever they whant .  I know that live is not easy but thank's of that material we can have a better live and also we can deffence ourselves.  Also i don't think that they  need to be remove that books or magazines because that's what help us to have e better life and also in the future, they need to be in there and if people found them offensive just don't go there or don't see that materials ignore them more people like those and thinkthat are helpful for them and for me.   I don't think that they goin to have a bad material in there, things that are inapropiate i thing that they can't have bad or  nasty information in a place that a lot of people go and not only adult also childre's  go too. And that's is more inappropriatefor kids. People know what's going on in there and some others persons know too. the world sometimes is a danger and sometimes help us for grows up that's is a good thing but we hace the choise if we want to read or have that information.  I remember one time when i read a book that is kind of sad but that help me to know better our life it was about two boys the book has a lot of bad words and talk really bad bad olso that explain more the book and we learn more about it. that's some things that help us with life. One of the books, magazines,music,movies .etc  that we can write is our life because we pass a lot of difficults times and that is a book of our life and can be a inappropriate book of our live.people like me give the tanks to those peoples that publish they experiences and at the same time help us\"\n",
    "text = [essay1, essay2, essay3]\n",
    "text = [entry.lower() for entry in text]\n",
    "text_score = [3, 4, 4]"
   ]
  },
  {
   "cell_type": "code",
   "execution_count": 6,
   "metadata": {},
   "outputs": [
    {
     "data": {
      "text/plain": [
       "{'errors': [],\n",
       " 'success': True,\n",
       " 'cv_kappa': 0,\n",
       " 'cv_mean_absolute_error': 0,\n",
       " 'feature_ext': <feature_extractor.FeatureExtractor at 0x117520050>,\n",
       " 'classifier': GradientBoostingClassifier(ccp_alpha=0.0, criterion='friedman_mse', init=None,\n",
       "                            learning_rate=0.05, loss='deviance', max_depth=4,\n",
       "                            max_features=None, max_leaf_nodes=None,\n",
       "                            min_impurity_decrease=0.0, min_impurity_split=None,\n",
       "                            min_samples_leaf=3, min_samples_split=2,\n",
       "                            min_weight_fraction_leaf=0.0, n_estimators=100,\n",
       "                            n_iter_no_change=None, presort='deprecated',\n",
       "                            random_state=1, subsample=1.0, tol=0.0001,\n",
       "                            validation_fraction=0.1, verbose=0,\n",
       "                            warm_start=False),\n",
       " 'algorithm': 'classifiction',\n",
       " 'score': [3, 4, 4],\n",
       " 'text': [\"what do you want your child being exposed to?    in my own opinion i believe that @caps1 shouldn't be taken off the shelfs, because kids know what books are appropriate and innappropriate for them. this @caps2 why the library has @caps3 'kids' selction away from the 'adult' selction. they know their boundaries, and i don't think a librarian would let a child check out anything innappropriate. the library @caps2 a place for all sorts of books for anybody to come and have the right to check them out.   also, @caps3 not just librarys', @caps1 can be seen or heard from schools, on the radio, t.v. and video games. any where you go they're more likely going to see innapropriate actions that take place. so as a parent @caps3 your job to keep your child away from the things you don't want them to see or hear as much as possible.       the only way a child can be exposed to this @caps2 if their parents are unattended and irresponsible. someday your kids will ask questions about that that kind of stuff they hear or see at school from other students. just be open and honest at the right time but in a mature clean matter.      i know alot of young children these days who are being exposed a lot from violent video games, music about drugs, alchol, and sex. @caps1 really bothers me, because when i was their age i had no idea what @caps1 even was or meant. @caps1's wrong for the parents to let them be around that when they know @caps1 has a label on @caps1 saying '@caps10 @caps11', '@caps12'  or '@num1'.      every time i hear a child say something about this aweseome video game or cool new song they heard on the radio about drugs, violence and etc, the children tend to get younger and younger every time. i don't understand why parents let them be exposed to that unecessary stuff\",\n",
       "  \"i've recently read a letter from katherine paterson about censorship in libraries. this is my opinion expressed in words about how i feel about the whole topic.     i've been reading ever since i hit first grade. to be honest, i couldn't tell you the names of @percent1 of them because... well i just can't remember them. i'd like to think that it's because i have a horrible memory, but the truth is, they were just unappealing and unmemorable books. in all aspects, these books could be considered a waste of my life. back then, i guess i only read them because i had nothing better to do, which is horrible because you should read books because you want to. i stopped reading books at around seventh grade because every book i picked up seemed to be extremely boring and it would take the first one hundred pages to actually have something decent happen.          luckily, there is light at the end of this tunnel. every now and then you come across a book that changes your life. not literally, but it feels that way at the time (which is what you should feel). these are the books i remember. these 'life-changing' books all have things in them that would interest anyone who picks them up. unfortunately, these things would be viewed as innappropriate to a select audience. for example, one book @month1 talk about murder and be viewed as highly offensive by a person whose mother had been murdered, whereas the same book could be viewed as a piece of art by someone who has escaped the terribleness of death. apparently it has gotten to the point where people would have the books censored or have them removed the libraries completely. i can stand idle no longer.     books all go through a long, drawn-out process before they are shelf-ready. they need to be written, read, and selected to be published. for some books, this can take years. to completely alienate these books is extremely unfair to the time that was put into them. if you don't like the books, don't read them. it's as simple as that. if that's not enough reason for you, think of it this way: a book about a child getting raped and fighting to overcome it could serve as inspiration for rape victims. or, a book about someone's parents dying could help a child in the same situation overcome the grief.     all books serve a purpose and should remain staunch on the shelves of local book stores, regardless of the methods used in them. even if they don't appeal to you, it could be a completely different experience for someone else halfway across the world. let these books serve their purpose.\",\n",
       "  \"do you believe that certain materials, such as books, movies, magazines, etc ...,should be removed from the shelves if they are found offensive?   most of the people made books that are inapropiate or offensive and sometimes are the life of the person or some experience that they have live. but the problem is that a lot of people are not realistic and they don't thing that those is the live of person's and can be the future of more people.peple sometimes like to be the best and can make problems with other and that mekes them happy that is a sad thing because that's bad and also they can get of the point of do things so bad that they go to jail that's are some of the experiences that people shows  but others get it wrong. well thats their problem they can do what ever they whant .  i know that live is not easy but thank's of that material we can have a better live and also we can deffence ourselves.  also i don't think that they  need to be remove that books or magazines because that's what help us to have e better life and also in the future, they need to be in there and if people found them offensive just don't go there or don't see that materials ignore them more people like those and thinkthat are helpful for them and for me.   i don't think that they goin to have a bad material in there, things that are inapropiate i thing that they can't have bad or  nasty information in a place that a lot of people go and not only adult also childre's  go too. and that's is more inappropriatefor kids. people know what's going on in there and some others persons know too. the world sometimes is a danger and sometimes help us for grows up that's is a good thing but we hace the choise if we want to read or have that information.  i remember one time when i read a book that is kind of sad but that help me to know better our life it was about two boys the book has a lot of bad words and talk really bad bad olso that explain more the book and we learn more about it. that's some things that help us with life. one of the books, magazines,music,movies .etc  that we can write is our life because we pass a lot of difficults times and that is a book of our life and can be a inappropriate book of our live.people like me give the tanks to those peoples that publish they experiences and at the same time help us\"],\n",
       " 'prompt': 'Censorship in the Libraries \"All of us can think of a book that we hope none of our children or any other children have taken off the shelf. But if I have the right to remove that book from the shelf -- that work I abhor -- then you also have exactly the same right and so does everyone else. And then we have no books left on the shelf for any of us.\" --Katherine Paterson, Author Write a persuasive essay to a newspaper reflecting your vies on censorship in libraries. Do you believe that certain materials, such as books, music, movies, magazines, etc., should be removed from the shelves if they are found offensive? Support your position with convincing arguments from your own experience, observations, and/or reading.  '}"
      ]
     },
     "execution_count": 6,
     "metadata": {},
     "output_type": "execute_result"
    }
   ],
   "source": [
    "\"\"\"\n",
    "This create function returns a machine learning model. \n",
    "\n",
    "A sample code usage is illustrated below. \n",
    "It returns a GradientBoostingClassifier. \n",
    "I believe we need to use this Classifier to do some prediction. \n",
    "\n",
    "I have looked into PredictorExtractor and PredictorSet. \n",
    "To use PredictorExtractor, it needs to input an object of PredictorSet. \n",
    "\n",
    "However, PredictorSet has only one main utilizing function - add_row, \n",
    "where it needs the input of numeric_features and textual_features. \n",
    "This does not seem to fit what we are looking for - a fit of text essays and its scores. \n",
    "\n",
    "When looked into create.py, there is another function - create_generic,\n",
    "that does a similar job as the create function, and returns a machine learning model. \n",
    "This means that the utilization of PredictorExtractor goes like this:\n",
    "create_generic -> use add_row in PredictorSet -> use gen_feats and input the PredictorSet object. \n",
    "\n",
    "Kindly look into the code, \n",
    "and see if there is any function on utilizing the GradientBoostingClassifier returned below\n",
    "\"\"\"\n",
    "create.create(text, text_score, get_essay_prompt(2))"
   ]
  },
  {
   "cell_type": "code",
   "execution_count": null,
   "metadata": {},
   "outputs": [],
   "source": []
  },
  {
   "cell_type": "code",
   "execution_count": null,
   "metadata": {},
   "outputs": [],
   "source": []
  }
 ],
 "metadata": {
  "kernelspec": {
   "display_name": "Python 3",
   "language": "python",
   "name": "python3"
  },
  "language_info": {
   "codemirror_mode": {
    "name": "ipython",
    "version": 3
   },
   "file_extension": ".py",
   "mimetype": "text/x-python",
   "name": "python",
   "nbconvert_exporter": "python",
   "pygments_lexer": "ipython3",
   "version": "3.7.4"
  }
 },
 "nbformat": 4,
 "nbformat_minor": 4
}
