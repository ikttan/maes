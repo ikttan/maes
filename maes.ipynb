{
 "cells": [
  {
   "cell_type": "markdown",
   "metadata": {},
   "source": [
    "# M - Automated Essay Scoring\n",
    "_School of Information Technology_<br>\n",
    "_Monash University Malaysia_<br>\n",
    "(c) Copyright 2020, Ian Tan & Jun Qing Lim"
   ]
  },
  {
   "cell_type": "markdown",
   "metadata": {},
   "source": [
    "Steps\n",
    "\n",
    "- Import libraries\n",
    "- Read dataset (ASAP)\n",
    "- Extract features (into file) using EASE\n",
    "- Conduct machine learning (Sci-kit Learn libraries)\n",
    "- Evaluate (QWK)"
   ]
  },
  {
   "cell_type": "markdown",
   "metadata": {},
   "source": [
    "## Import Libraries"
   ]
  },
  {
   "cell_type": "code",
   "execution_count": 1,
   "metadata": {},
   "outputs": [],
   "source": [
    "import numpy as np\n",
    "import pandas as pd\n",
    "from collections import defaultdict\n",
    "\n",
    "from nltk import pos_tag\n",
    "from nltk.tokenize import word_tokenize\n",
    "from nltk.corpus import stopwords\n",
    "from nltk.corpus import wordnet as wn\n",
    "from nltk.stem import WordNetLemmatizer\n",
    "\n",
    "from sklearn.preprocessing import LabelEncoder\n",
    "from sklearn.feature_extraction.text import TfidfVectorizer\n",
    "from sklearn import model_selection, naive_bayes, svm #SVR is in SVM\n",
    "from sklearn.metrics import accuracy_score, confusion_matrix"
   ]
  },
  {
   "cell_type": "markdown",
   "metadata": {},
   "source": [
    "#### Import the EASE functions, which is located in the ease folder."
   ]
  },
  {
   "cell_type": "code",
   "execution_count": 2,
   "metadata": {},
   "outputs": [],
   "source": [
    "import sys\n",
    "sys.path.insert(1, 'ease')\n",
    "import create\n",
    "import grade \n",
    "import model_creator \n",
    "import predictor_extractor \n",
    "import predictor_set \n",
    "import util_functions\n",
    "import essay_set\n",
    "import feature_extractor\n",
    "\n",
    "from essay_set import EssaySet\n",
    "from feature_extractor import FeatureExtractor"
   ]
  },
  {
   "cell_type": "markdown",
   "metadata": {},
   "source": [
    "## Read Dataset"
   ]
  },
  {
   "cell_type": "markdown",
   "metadata": {},
   "source": [
    "AES (Hewlett Foundation dataset from Kaggle) in the folder \"aes\""
   ]
  },
  {
   "cell_type": "code",
   "execution_count": 3,
   "metadata": {},
   "outputs": [],
   "source": [
    "train_set = pd.read_csv(\"asap-aes/training_set_rel3.tsv\", sep='\\t', encoding=\"latin-1\")\n",
    "#train_set.head()"
   ]
  },
  {
   "cell_type": "code",
   "execution_count": 4,
   "metadata": {},
   "outputs": [],
   "source": [
    "# Am filtering just for this current exercise.\n",
    "# Set 2 has 1,800 essays, sufficient for current work\n",
    "train_set = train_set[train_set['essay_set'] == 2]  # filter for set 2\n",
    "#train_set.head()"
   ]
  },
  {
   "cell_type": "code",
   "execution_count": 5,
   "metadata": {},
   "outputs": [],
   "source": [
    "train_set = train_set.reset_index() # resets index\n",
    "#train_set.head()"
   ]
  },
  {
   "cell_type": "code",
   "execution_count": 6,
   "metadata": {},
   "outputs": [],
   "source": [
    "train_set['essay'] = [entry.lower() for entry in train_set['essay']] # lower case for all words in essay\n",
    "#train_set.head()"
   ]
  },
  {
   "cell_type": "code",
   "execution_count": 7,
   "metadata": {},
   "outputs": [],
   "source": [
    "essays = train_set['essay']\n",
    "scores = train_set['domain1_score']"
   ]
  },
  {
   "cell_type": "code",
   "execution_count": 8,
   "metadata": {},
   "outputs": [],
   "source": [
    "scores.columns = \"score\""
   ]
  },
  {
   "cell_type": "markdown",
   "metadata": {},
   "source": [
    "#### Create the essay sets"
   ]
  },
  {
   "cell_type": "code",
   "execution_count": 9,
   "metadata": {},
   "outputs": [],
   "source": [
    "# This can take some time, be patient :-)\n",
    "e_set = EssaySet()\n",
    "\n",
    "for i in range(len(essays)):\n",
    "    e_set.add_essay(essays[i], scores[i])"
   ]
  },
  {
   "cell_type": "markdown",
   "metadata": {},
   "source": [
    "## Extract Features"
   ]
  },
  {
   "cell_type": "code",
   "execution_count": 10,
   "metadata": {},
   "outputs": [],
   "source": [
    "f_extractor = FeatureExtractor()"
   ]
  },
  {
   "cell_type": "code",
   "execution_count": 11,
   "metadata": {},
   "outputs": [],
   "source": [
    "length = f_extractor.gen_length_feats(e_set)\n",
    "length_df = pd.DataFrame(\n",
    "    length, \n",
    "    columns = [\n",
    "        'chars', \n",
    "        'words', \n",
    "        'commas', \n",
    "        'apostrophes', \n",
    "        'punctuations', \n",
    "        'avg_word_length', \n",
    "        'POS', \n",
    "        'POS/total_words'\n",
    "    ]\n",
    ")"
   ]
  },
  {
   "cell_type": "markdown",
   "metadata": {},
   "source": [
    "#### Collate the essay prompts\n",
    "This consist of one essay from each set"
   ]
  },
  {
   "cell_type": "code",
   "execution_count": 12,
   "metadata": {},
   "outputs": [],
   "source": [
    "essay_prompts = []\n",
    "\n",
    "# Takes a bit of time also :)\n",
    "for i in range(1,9):\n",
    "    file = \"prompts/set\" + str(i) + \".txt\"\n",
    "    f = open(file, \"r\", encoding=\"latin-1\") # there are some 0x9x characters, hence need to specify encoding\n",
    "    essay_prompts.append(f.read())\n",
    "    \n",
    "def get_essay_prompt(essay_set):\n",
    "    return essay_prompts[essay_set-1]"
   ]
  },
  {
   "cell_type": "code",
   "execution_count": 13,
   "metadata": {},
   "outputs": [],
   "source": [
    "# Unsure how this works\n",
    "e_set.update_prompt(get_essay_prompt(2))\n",
    "\n",
    "# Need more explanation on how this works - look into EASE\n",
    "\n",
    "prompts = f_extractor.gen_prompt_feats(e_set)\n",
    "prompts_df = pd.DataFrame(prompts, columns = ['prompt_words', 'prompt_words/total_words', 'synonym_words', 'synonym_words/total_words'])"
   ]
  },
  {
   "cell_type": "code",
   "execution_count": 14,
   "metadata": {},
   "outputs": [
    {
     "data": {
      "text/plain": [
       "<essay_set.EssaySet at 0x1efd7badc50>"
      ]
     },
     "execution_count": 14,
     "metadata": {},
     "output_type": "execute_result"
    }
   ],
   "source": [
    "e_set"
   ]
  },
  {
   "cell_type": "code",
   "execution_count": 15,
   "metadata": {},
   "outputs": [],
   "source": [
    "# Another process that takes sometime to process\n",
    "unstemmed = util_functions.get_vocab_essays_count(e_set._text, e_set._score)\n",
    "stemmed = util_functions.get_vocab_essays_count(e_set._clean_stem_text, e_set._score)\n",
    "\n",
    "bow = list(map(lambda a,b:[a,b], unstemmed, stemmed))\n",
    "bow_df = pd.DataFrame(bow, columns = ['unstemmed', 'stemmed'])"
   ]
  },
  {
   "cell_type": "code",
   "execution_count": 16,
   "metadata": {},
   "outputs": [],
   "source": [
    "features = pd.concat([length_df, prompts_df, bow_df], axis=1, sort=False)"
   ]
  },
  {
   "cell_type": "code",
   "execution_count": 17,
   "metadata": {},
   "outputs": [
    {
     "data": {
      "text/html": [
       "<div>\n",
       "<style scoped>\n",
       "    .dataframe tbody tr th:only-of-type {\n",
       "        vertical-align: middle;\n",
       "    }\n",
       "\n",
       "    .dataframe tbody tr th {\n",
       "        vertical-align: top;\n",
       "    }\n",
       "\n",
       "    .dataframe thead th {\n",
       "        text-align: right;\n",
       "    }\n",
       "</style>\n",
       "<table border=\"1\" class=\"dataframe\">\n",
       "  <thead>\n",
       "    <tr style=\"text-align: right;\">\n",
       "      <th></th>\n",
       "      <th>chars</th>\n",
       "      <th>words</th>\n",
       "      <th>commas</th>\n",
       "      <th>apostrophes</th>\n",
       "      <th>punctuations</th>\n",
       "      <th>avg_word_length</th>\n",
       "      <th>POS</th>\n",
       "      <th>POS/total_words</th>\n",
       "      <th>prompt_words</th>\n",
       "      <th>prompt_words/total_words</th>\n",
       "      <th>synonym_words</th>\n",
       "      <th>synonym_words/total_words</th>\n",
       "      <th>unstemmed</th>\n",
       "      <th>stemmed</th>\n",
       "    </tr>\n",
       "  </thead>\n",
       "  <tbody>\n",
       "    <tr>\n",
       "      <th>0</th>\n",
       "      <td>2639.0</td>\n",
       "      <td>527.0</td>\n",
       "      <td>15.0</td>\n",
       "      <td>13.0</td>\n",
       "      <td>21.0</td>\n",
       "      <td>5.007590</td>\n",
       "      <td>524.330784</td>\n",
       "      <td>0.994935</td>\n",
       "      <td>220.0</td>\n",
       "      <td>0.417457</td>\n",
       "      <td>112.0</td>\n",
       "      <td>0.212524</td>\n",
       "      <td>584</td>\n",
       "      <td>559</td>\n",
       "    </tr>\n",
       "    <tr>\n",
       "      <th>1</th>\n",
       "      <td>841.0</td>\n",
       "      <td>180.0</td>\n",
       "      <td>5.0</td>\n",
       "      <td>2.0</td>\n",
       "      <td>3.0</td>\n",
       "      <td>4.672222</td>\n",
       "      <td>178.662900</td>\n",
       "      <td>0.992572</td>\n",
       "      <td>82.0</td>\n",
       "      <td>0.455556</td>\n",
       "      <td>66.0</td>\n",
       "      <td>0.366667</td>\n",
       "      <td>210</td>\n",
       "      <td>210</td>\n",
       "    </tr>\n",
       "    <tr>\n",
       "      <th>2</th>\n",
       "      <td>1181.0</td>\n",
       "      <td>261.0</td>\n",
       "      <td>12.0</td>\n",
       "      <td>15.0</td>\n",
       "      <td>14.0</td>\n",
       "      <td>4.524904</td>\n",
       "      <td>257.992218</td>\n",
       "      <td>0.988476</td>\n",
       "      <td>144.0</td>\n",
       "      <td>0.551724</td>\n",
       "      <td>83.0</td>\n",
       "      <td>0.318008</td>\n",
       "      <td>291</td>\n",
       "      <td>285</td>\n",
       "    </tr>\n",
       "    <tr>\n",
       "      <th>3</th>\n",
       "      <td>2705.0</td>\n",
       "      <td>527.0</td>\n",
       "      <td>22.0</td>\n",
       "      <td>6.0</td>\n",
       "      <td>31.0</td>\n",
       "      <td>5.132827</td>\n",
       "      <td>521.653920</td>\n",
       "      <td>0.989856</td>\n",
       "      <td>245.0</td>\n",
       "      <td>0.464896</td>\n",
       "      <td>131.0</td>\n",
       "      <td>0.248577</td>\n",
       "      <td>547</td>\n",
       "      <td>528</td>\n",
       "    </tr>\n",
       "    <tr>\n",
       "      <th>4</th>\n",
       "      <td>2394.0</td>\n",
       "      <td>501.0</td>\n",
       "      <td>25.0</td>\n",
       "      <td>15.0</td>\n",
       "      <td>34.0</td>\n",
       "      <td>4.778443</td>\n",
       "      <td>484.298031</td>\n",
       "      <td>0.966663</td>\n",
       "      <td>216.0</td>\n",
       "      <td>0.431138</td>\n",
       "      <td>117.0</td>\n",
       "      <td>0.233533</td>\n",
       "      <td>591</td>\n",
       "      <td>562</td>\n",
       "    </tr>\n",
       "  </tbody>\n",
       "</table>\n",
       "</div>"
      ],
      "text/plain": [
       "    chars  words  commas  apostrophes  punctuations  avg_word_length  \\\n",
       "0  2639.0  527.0    15.0         13.0          21.0         5.007590   \n",
       "1   841.0  180.0     5.0          2.0           3.0         4.672222   \n",
       "2  1181.0  261.0    12.0         15.0          14.0         4.524904   \n",
       "3  2705.0  527.0    22.0          6.0          31.0         5.132827   \n",
       "4  2394.0  501.0    25.0         15.0          34.0         4.778443   \n",
       "\n",
       "          POS  POS/total_words  prompt_words  prompt_words/total_words  \\\n",
       "0  524.330784         0.994935         220.0                  0.417457   \n",
       "1  178.662900         0.992572          82.0                  0.455556   \n",
       "2  257.992218         0.988476         144.0                  0.551724   \n",
       "3  521.653920         0.989856         245.0                  0.464896   \n",
       "4  484.298031         0.966663         216.0                  0.431138   \n",
       "\n",
       "   synonym_words  synonym_words/total_words  unstemmed  stemmed  \n",
       "0          112.0                   0.212524        584      559  \n",
       "1           66.0                   0.366667        210      210  \n",
       "2           83.0                   0.318008        291      285  \n",
       "3          131.0                   0.248577        547      528  \n",
       "4          117.0                   0.233533        591      562  "
      ]
     },
     "execution_count": 17,
     "metadata": {},
     "output_type": "execute_result"
    }
   ],
   "source": [
    "features.head()"
   ]
  },
  {
   "cell_type": "code",
   "execution_count": 18,
   "metadata": {},
   "outputs": [],
   "source": [
    "# Export features to a file for next stage (optional)\n",
    "dataset = features.merge(scores, left_index=True, right_index=True)"
   ]
  },
  {
   "cell_type": "code",
   "execution_count": 19,
   "metadata": {},
   "outputs": [
    {
     "data": {
      "text/html": [
       "<div>\n",
       "<style scoped>\n",
       "    .dataframe tbody tr th:only-of-type {\n",
       "        vertical-align: middle;\n",
       "    }\n",
       "\n",
       "    .dataframe tbody tr th {\n",
       "        vertical-align: top;\n",
       "    }\n",
       "\n",
       "    .dataframe thead th {\n",
       "        text-align: right;\n",
       "    }\n",
       "</style>\n",
       "<table border=\"1\" class=\"dataframe\">\n",
       "  <thead>\n",
       "    <tr style=\"text-align: right;\">\n",
       "      <th></th>\n",
       "      <th>chars</th>\n",
       "      <th>words</th>\n",
       "      <th>commas</th>\n",
       "      <th>apostrophes</th>\n",
       "      <th>punctuations</th>\n",
       "      <th>avg_word_length</th>\n",
       "      <th>POS</th>\n",
       "      <th>POS/total_words</th>\n",
       "      <th>prompt_words</th>\n",
       "      <th>prompt_words/total_words</th>\n",
       "      <th>synonym_words</th>\n",
       "      <th>synonym_words/total_words</th>\n",
       "      <th>unstemmed</th>\n",
       "      <th>stemmed</th>\n",
       "      <th>domain1_score</th>\n",
       "    </tr>\n",
       "  </thead>\n",
       "  <tbody>\n",
       "    <tr>\n",
       "      <th>0</th>\n",
       "      <td>2639.0</td>\n",
       "      <td>527.0</td>\n",
       "      <td>15.0</td>\n",
       "      <td>13.0</td>\n",
       "      <td>21.0</td>\n",
       "      <td>5.007590</td>\n",
       "      <td>524.330784</td>\n",
       "      <td>0.994935</td>\n",
       "      <td>220.0</td>\n",
       "      <td>0.417457</td>\n",
       "      <td>112.0</td>\n",
       "      <td>0.212524</td>\n",
       "      <td>584</td>\n",
       "      <td>559</td>\n",
       "      <td>4</td>\n",
       "    </tr>\n",
       "    <tr>\n",
       "      <th>1</th>\n",
       "      <td>841.0</td>\n",
       "      <td>180.0</td>\n",
       "      <td>5.0</td>\n",
       "      <td>2.0</td>\n",
       "      <td>3.0</td>\n",
       "      <td>4.672222</td>\n",
       "      <td>178.662900</td>\n",
       "      <td>0.992572</td>\n",
       "      <td>82.0</td>\n",
       "      <td>0.455556</td>\n",
       "      <td>66.0</td>\n",
       "      <td>0.366667</td>\n",
       "      <td>210</td>\n",
       "      <td>210</td>\n",
       "      <td>1</td>\n",
       "    </tr>\n",
       "    <tr>\n",
       "      <th>2</th>\n",
       "      <td>1181.0</td>\n",
       "      <td>261.0</td>\n",
       "      <td>12.0</td>\n",
       "      <td>15.0</td>\n",
       "      <td>14.0</td>\n",
       "      <td>4.524904</td>\n",
       "      <td>257.992218</td>\n",
       "      <td>0.988476</td>\n",
       "      <td>144.0</td>\n",
       "      <td>0.551724</td>\n",
       "      <td>83.0</td>\n",
       "      <td>0.318008</td>\n",
       "      <td>291</td>\n",
       "      <td>285</td>\n",
       "      <td>2</td>\n",
       "    </tr>\n",
       "    <tr>\n",
       "      <th>3</th>\n",
       "      <td>2705.0</td>\n",
       "      <td>527.0</td>\n",
       "      <td>22.0</td>\n",
       "      <td>6.0</td>\n",
       "      <td>31.0</td>\n",
       "      <td>5.132827</td>\n",
       "      <td>521.653920</td>\n",
       "      <td>0.989856</td>\n",
       "      <td>245.0</td>\n",
       "      <td>0.464896</td>\n",
       "      <td>131.0</td>\n",
       "      <td>0.248577</td>\n",
       "      <td>547</td>\n",
       "      <td>528</td>\n",
       "      <td>4</td>\n",
       "    </tr>\n",
       "    <tr>\n",
       "      <th>4</th>\n",
       "      <td>2394.0</td>\n",
       "      <td>501.0</td>\n",
       "      <td>25.0</td>\n",
       "      <td>15.0</td>\n",
       "      <td>34.0</td>\n",
       "      <td>4.778443</td>\n",
       "      <td>484.298031</td>\n",
       "      <td>0.966663</td>\n",
       "      <td>216.0</td>\n",
       "      <td>0.431138</td>\n",
       "      <td>117.0</td>\n",
       "      <td>0.233533</td>\n",
       "      <td>591</td>\n",
       "      <td>562</td>\n",
       "      <td>4</td>\n",
       "    </tr>\n",
       "  </tbody>\n",
       "</table>\n",
       "</div>"
      ],
      "text/plain": [
       "    chars  words  commas  apostrophes  punctuations  avg_word_length  \\\n",
       "0  2639.0  527.0    15.0         13.0          21.0         5.007590   \n",
       "1   841.0  180.0     5.0          2.0           3.0         4.672222   \n",
       "2  1181.0  261.0    12.0         15.0          14.0         4.524904   \n",
       "3  2705.0  527.0    22.0          6.0          31.0         5.132827   \n",
       "4  2394.0  501.0    25.0         15.0          34.0         4.778443   \n",
       "\n",
       "          POS  POS/total_words  prompt_words  prompt_words/total_words  \\\n",
       "0  524.330784         0.994935         220.0                  0.417457   \n",
       "1  178.662900         0.992572          82.0                  0.455556   \n",
       "2  257.992218         0.988476         144.0                  0.551724   \n",
       "3  521.653920         0.989856         245.0                  0.464896   \n",
       "4  484.298031         0.966663         216.0                  0.431138   \n",
       "\n",
       "   synonym_words  synonym_words/total_words  unstemmed  stemmed  domain1_score  \n",
       "0          112.0                   0.212524        584      559              4  \n",
       "1           66.0                   0.366667        210      210              1  \n",
       "2           83.0                   0.318008        291      285              2  \n",
       "3          131.0                   0.248577        547      528              4  \n",
       "4          117.0                   0.233533        591      562              4  "
      ]
     },
     "execution_count": 19,
     "metadata": {},
     "output_type": "execute_result"
    }
   ],
   "source": [
    "dataset.head()"
   ]
  },
  {
   "cell_type": "code",
   "execution_count": 20,
   "metadata": {},
   "outputs": [],
   "source": [
    "dataset.columns = ['chars', 'words', 'commas', 'apostrophes', 'punctuations',\n",
    "       'avg_word_length', 'POS', 'POS/total_words', 'prompt_words',\n",
    "       'prompt_words/total_words', 'synonym_words',\n",
    "       'synonym_words/total_words', 'unstemmed', 'stemmed', 'score']"
   ]
  },
  {
   "cell_type": "code",
   "execution_count": 21,
   "metadata": {
    "scrolled": true
   },
   "outputs": [
    {
     "data": {
      "text/html": [
       "<div>\n",
       "<style scoped>\n",
       "    .dataframe tbody tr th:only-of-type {\n",
       "        vertical-align: middle;\n",
       "    }\n",
       "\n",
       "    .dataframe tbody tr th {\n",
       "        vertical-align: top;\n",
       "    }\n",
       "\n",
       "    .dataframe thead th {\n",
       "        text-align: right;\n",
       "    }\n",
       "</style>\n",
       "<table border=\"1\" class=\"dataframe\">\n",
       "  <thead>\n",
       "    <tr style=\"text-align: right;\">\n",
       "      <th></th>\n",
       "      <th>chars</th>\n",
       "      <th>words</th>\n",
       "      <th>commas</th>\n",
       "      <th>apostrophes</th>\n",
       "      <th>punctuations</th>\n",
       "      <th>avg_word_length</th>\n",
       "      <th>POS</th>\n",
       "      <th>POS/total_words</th>\n",
       "      <th>prompt_words</th>\n",
       "      <th>prompt_words/total_words</th>\n",
       "      <th>synonym_words</th>\n",
       "      <th>synonym_words/total_words</th>\n",
       "      <th>unstemmed</th>\n",
       "      <th>stemmed</th>\n",
       "      <th>score</th>\n",
       "    </tr>\n",
       "  </thead>\n",
       "  <tbody>\n",
       "    <tr>\n",
       "      <th>0</th>\n",
       "      <td>2639.0</td>\n",
       "      <td>527.0</td>\n",
       "      <td>15.0</td>\n",
       "      <td>13.0</td>\n",
       "      <td>21.0</td>\n",
       "      <td>5.007590</td>\n",
       "      <td>524.330784</td>\n",
       "      <td>0.994935</td>\n",
       "      <td>220.0</td>\n",
       "      <td>0.417457</td>\n",
       "      <td>112.0</td>\n",
       "      <td>0.212524</td>\n",
       "      <td>584</td>\n",
       "      <td>559</td>\n",
       "      <td>4</td>\n",
       "    </tr>\n",
       "    <tr>\n",
       "      <th>1</th>\n",
       "      <td>841.0</td>\n",
       "      <td>180.0</td>\n",
       "      <td>5.0</td>\n",
       "      <td>2.0</td>\n",
       "      <td>3.0</td>\n",
       "      <td>4.672222</td>\n",
       "      <td>178.662900</td>\n",
       "      <td>0.992572</td>\n",
       "      <td>82.0</td>\n",
       "      <td>0.455556</td>\n",
       "      <td>66.0</td>\n",
       "      <td>0.366667</td>\n",
       "      <td>210</td>\n",
       "      <td>210</td>\n",
       "      <td>1</td>\n",
       "    </tr>\n",
       "    <tr>\n",
       "      <th>2</th>\n",
       "      <td>1181.0</td>\n",
       "      <td>261.0</td>\n",
       "      <td>12.0</td>\n",
       "      <td>15.0</td>\n",
       "      <td>14.0</td>\n",
       "      <td>4.524904</td>\n",
       "      <td>257.992218</td>\n",
       "      <td>0.988476</td>\n",
       "      <td>144.0</td>\n",
       "      <td>0.551724</td>\n",
       "      <td>83.0</td>\n",
       "      <td>0.318008</td>\n",
       "      <td>291</td>\n",
       "      <td>285</td>\n",
       "      <td>2</td>\n",
       "    </tr>\n",
       "    <tr>\n",
       "      <th>3</th>\n",
       "      <td>2705.0</td>\n",
       "      <td>527.0</td>\n",
       "      <td>22.0</td>\n",
       "      <td>6.0</td>\n",
       "      <td>31.0</td>\n",
       "      <td>5.132827</td>\n",
       "      <td>521.653920</td>\n",
       "      <td>0.989856</td>\n",
       "      <td>245.0</td>\n",
       "      <td>0.464896</td>\n",
       "      <td>131.0</td>\n",
       "      <td>0.248577</td>\n",
       "      <td>547</td>\n",
       "      <td>528</td>\n",
       "      <td>4</td>\n",
       "    </tr>\n",
       "    <tr>\n",
       "      <th>4</th>\n",
       "      <td>2394.0</td>\n",
       "      <td>501.0</td>\n",
       "      <td>25.0</td>\n",
       "      <td>15.0</td>\n",
       "      <td>34.0</td>\n",
       "      <td>4.778443</td>\n",
       "      <td>484.298031</td>\n",
       "      <td>0.966663</td>\n",
       "      <td>216.0</td>\n",
       "      <td>0.431138</td>\n",
       "      <td>117.0</td>\n",
       "      <td>0.233533</td>\n",
       "      <td>591</td>\n",
       "      <td>562</td>\n",
       "      <td>4</td>\n",
       "    </tr>\n",
       "  </tbody>\n",
       "</table>\n",
       "</div>"
      ],
      "text/plain": [
       "    chars  words  commas  apostrophes  punctuations  avg_word_length  \\\n",
       "0  2639.0  527.0    15.0         13.0          21.0         5.007590   \n",
       "1   841.0  180.0     5.0          2.0           3.0         4.672222   \n",
       "2  1181.0  261.0    12.0         15.0          14.0         4.524904   \n",
       "3  2705.0  527.0    22.0          6.0          31.0         5.132827   \n",
       "4  2394.0  501.0    25.0         15.0          34.0         4.778443   \n",
       "\n",
       "          POS  POS/total_words  prompt_words  prompt_words/total_words  \\\n",
       "0  524.330784         0.994935         220.0                  0.417457   \n",
       "1  178.662900         0.992572          82.0                  0.455556   \n",
       "2  257.992218         0.988476         144.0                  0.551724   \n",
       "3  521.653920         0.989856         245.0                  0.464896   \n",
       "4  484.298031         0.966663         216.0                  0.431138   \n",
       "\n",
       "   synonym_words  synonym_words/total_words  unstemmed  stemmed  score  \n",
       "0          112.0                   0.212524        584      559      4  \n",
       "1           66.0                   0.366667        210      210      1  \n",
       "2           83.0                   0.318008        291      285      2  \n",
       "3          131.0                   0.248577        547      528      4  \n",
       "4          117.0                   0.233533        591      562      4  "
      ]
     },
     "execution_count": 21,
     "metadata": {},
     "output_type": "execute_result"
    }
   ],
   "source": [
    "dataset.head()"
   ]
  },
  {
   "cell_type": "code",
   "execution_count": 22,
   "metadata": {},
   "outputs": [],
   "source": [
    "dataset.to_csv('maes_features.csv')"
   ]
  },
  {
   "cell_type": "markdown",
   "metadata": {},
   "source": [
    "# End"
   ]
  },
  {
   "cell_type": "markdown",
   "metadata": {},
   "source": [
    "Can just use the features and score for the X and y but just to keep to certain convention if reading back from the CSV file above.\n"
   ]
  },
  {
   "cell_type": "code",
   "execution_count": 23,
   "metadata": {},
   "outputs": [],
   "source": [
    "X = dataset.iloc[:,0:13].values.astype(float)\n",
    "y = dataset.iloc[:,13:14].values.astype(float)"
   ]
  },
  {
   "cell_type": "code",
   "execution_count": 24,
   "metadata": {},
   "outputs": [
    {
     "data": {
      "text/plain": [
       "array([[2.63900000e+03, 5.27000000e+02, 1.50000000e+01, ...,\n",
       "        1.12000000e+02, 2.12523719e-01, 5.84000000e+02],\n",
       "       [8.41000000e+02, 1.80000000e+02, 5.00000000e+00, ...,\n",
       "        6.60000000e+01, 3.66666667e-01, 2.10000000e+02],\n",
       "       [1.18100000e+03, 2.61000000e+02, 1.20000000e+01, ...,\n",
       "        8.30000000e+01, 3.18007663e-01, 2.91000000e+02],\n",
       "       ...,\n",
       "       [6.05000000e+02, 1.32000000e+02, 7.00000000e+00, ...,\n",
       "        3.40000000e+01, 2.57575758e-01, 1.64000000e+02],\n",
       "       [2.73700000e+03, 5.61000000e+02, 2.20000000e+01, ...,\n",
       "        1.68000000e+02, 2.99465241e-01, 5.42000000e+02],\n",
       "       [2.46200000e+03, 5.20000000e+02, 8.00000000e+00, ...,\n",
       "        1.65000000e+02, 3.17307692e-01, 5.14000000e+02]])"
      ]
     },
     "execution_count": 24,
     "metadata": {},
     "output_type": "execute_result"
    }
   ],
   "source": [
    "X"
   ]
  },
  {
   "cell_type": "code",
   "execution_count": 25,
   "metadata": {},
   "outputs": [
    {
     "data": {
      "text/plain": [
       "(1800, 13)"
      ]
     },
     "execution_count": 25,
     "metadata": {},
     "output_type": "execute_result"
    }
   ],
   "source": [
    "X.shape"
   ]
  },
  {
   "cell_type": "code",
   "execution_count": 26,
   "metadata": {},
   "outputs": [
    {
     "data": {
      "text/plain": [
       "(1800, 1)"
      ]
     },
     "execution_count": 26,
     "metadata": {},
     "output_type": "execute_result"
    }
   ],
   "source": [
    "y.shape"
   ]
  },
  {
   "cell_type": "markdown",
   "metadata": {},
   "source": [
    "#### Conduct Feature Scaling"
   ]
  },
  {
   "cell_type": "code",
   "execution_count": 27,
   "metadata": {},
   "outputs": [],
   "source": [
    "from sklearn.preprocessing import StandardScaler\n",
    "sc_X = StandardScaler()\n",
    "sc_y = StandardScaler()\n",
    "X = sc_X.fit_transform(X)\n",
    "y = sc_y.fit_transform(y)"
   ]
  },
  {
   "cell_type": "code",
   "execution_count": 28,
   "metadata": {},
   "outputs": [
    {
     "data": {
      "text/plain": [
       "1800"
      ]
     },
     "execution_count": 28,
     "metadata": {},
     "output_type": "execute_result"
    }
   ],
   "source": [
    "len(X)"
   ]
  },
  {
   "cell_type": "code",
   "execution_count": 29,
   "metadata": {},
   "outputs": [
    {
     "data": {
      "text/plain": [
       "1800"
      ]
     },
     "execution_count": 29,
     "metadata": {},
     "output_type": "execute_result"
    }
   ],
   "source": [
    "len(y)"
   ]
  },
  {
   "cell_type": "markdown",
   "metadata": {},
   "source": [
    "#### Split the train and test sets"
   ]
  },
  {
   "cell_type": "code",
   "execution_count": 30,
   "metadata": {},
   "outputs": [
    {
     "name": "stdout",
     "output_type": "stream",
     "text": [
      "[[ -0.79591812  -0.79274203  -0.52192486   2.266733    -0.57079758\n",
      "   -0.17080642  -0.7857436    0.44590775  -0.52651768   1.35976342\n",
      "   -0.4291183    1.3780107   -0.99534758]\n",
      " [ -0.51618611  -0.55699135  -0.43044826  -1.01271031  -0.17185984\n",
      "    0.42231766  -0.56025533  -0.27271162  -0.55065849  -0.04485538\n",
      "   -0.4291183    0.36655217  -0.75801391]\n",
      " [ -0.63721302   1.55901482  -1.25373772  -1.01271031  35.44758104\n",
      "  -11.9319879    1.5781679    1.16155342   5.67766946   9.60384922\n",
      "   -2.02112129  -6.02218295  -2.41310399]\n",
      " [  0.84707926   0.73676243  -0.06454183   1.44687217   0.39805121\n",
      "    0.9216657    0.74323966   0.6514437    0.6081002   -0.31229061\n",
      "    0.42293964  -0.7535938    1.10942735]\n",
      " [  0.63242776   0.60451204   0.48431781   1.61084433   0.284069\n",
      "    0.34351803   0.61987387   1.05746662   0.51153697  -0.22908215\n",
      "    0.28840417  -0.78537985   0.77216371]]\n"
     ]
    }
   ],
   "source": [
    "# To split the train / test sets\n",
    "from sklearn.model_selection import train_test_split\n",
    "X_train, X_test, y_train, y_test = train_test_split(X, y, test_size=0.2, random_state=0)\n",
    "# Have a look at the first few lines\n",
    "print(X_train[:5, :])"
   ]
  },
  {
   "cell_type": "markdown",
   "metadata": {},
   "source": [
    "#### Conduct the fit"
   ]
  },
  {
   "cell_type": "code",
   "execution_count": 37,
   "metadata": {},
   "outputs": [
    {
     "name": "stderr",
     "output_type": "stream",
     "text": [
      "D:\\Anaconda3\\lib\\site-packages\\sklearn\\svm\\base.py:196: FutureWarning: The default value of gamma will change from 'auto' to 'scale' in version 0.22 to account better for unscaled features. Set gamma explicitly to 'auto' or 'scale' to avoid this warning.\n",
      "  \"avoid this warning.\", FutureWarning)\n"
     ]
    },
    {
     "data": {
      "text/plain": [
       "SVR(C=1.0, cache_size=200, coef0=0.0, degree=3, epsilon=0.1,\n",
       "  gamma='auto_deprecated', kernel='rbf', max_iter=-1, shrinking=True,\n",
       "  tol=0.001, verbose=False)"
      ]
     },
     "execution_count": 37,
     "metadata": {},
     "output_type": "execute_result"
    }
   ],
   "source": [
    "from sklearn.svm import SVR\n",
    "# most important SVR parameter is Kernel type. It can be #linear,polynomial or gaussian SVR. We have a non-linear condition #so we can select polynomial or gaussian but here we select RBF(a #gaussian type) kernel.\n",
    "# kernel{‘linear’, ‘poly’, ‘rbf’, ‘sigmoid’, ‘precomputed’}, default=’rbf’\n",
    "# maybe use poly and increase the degree\n",
    "regressor = SVR(kernel='rbf')\n",
    "regressor.fit(X_train,y_train.ravel())"
   ]
  },
  {
   "cell_type": "markdown",
   "metadata": {},
   "source": [
    "#### Test / Predict the fit"
   ]
  },
  {
   "cell_type": "code",
   "execution_count": 38,
   "metadata": {},
   "outputs": [],
   "source": [
    "# Not used yet as I don't have a sample X\n",
    "y_pred = regressor.predict(X_test)"
   ]
  },
  {
   "cell_type": "markdown",
   "metadata": {},
   "source": [
    "#### Accuracy Score"
   ]
  },
  {
   "cell_type": "code",
   "execution_count": 54,
   "metadata": {},
   "outputs": [
    {
     "data": {
      "text/plain": [
       "array([ 1.51140762e+00,  1.45870685e+00, -1.02579765e+00,  1.12331094e-01,\n",
       "        1.68596403e+00,  2.73007368e-01,  2.92951695e-01,  3.69565214e-01,\n",
       "        6.33960903e-01, -6.31943970e-01,  1.65670525e+00, -5.62866375e-02,\n",
       "       -4.51494973e-01, -8.62604289e-01, -6.55548912e-01,  1.35538061e+00,\n",
       "       -1.29491934e+00, -8.78474514e-01, -1.32786533e+00, -6.55394810e-02,\n",
       "        1.62825663e+00,  1.82544289e+00, -5.48874425e-01, -2.25411409e-01,\n",
       "       -6.45051206e-01, -8.01076265e-01, -3.86322583e-01, -5.20883485e-01,\n",
       "        4.99788938e-01, -3.53311427e-01,  3.25372250e-02,  1.73194476e+00,\n",
       "       -9.90946147e-01,  1.70545785e+00, -1.50069616e+00,  2.09784566e-01,\n",
       "        1.65852066e+00, -1.85077616e+00, -1.38340981e+00,  6.09976684e-01,\n",
       "       -2.24687603e-01,  2.06865852e-01,  1.22449154e-01, -1.84309617e+00,\n",
       "       -1.74020344e-01, -6.69754550e-02, -6.32550070e-01, -1.71071657e+00,\n",
       "        5.05213128e-01, -4.33899989e-01, -2.29218725e-01,  1.02722110e+00,\n",
       "        5.36459136e-01,  7.93108471e-02, -5.05333778e-01, -1.70970652e+00,\n",
       "       -6.82538665e-02, -6.03611303e-01, -1.56175708e+00,  1.75226232e+00,\n",
       "       -5.37184716e-01,  1.92581040e+00, -7.66622598e-02, -1.86024247e+00,\n",
       "        5.08428042e-01, -3.11146926e-01, -6.99902282e-01, -7.29780787e-01,\n",
       "        1.30383862e-01,  9.06513515e-02,  3.75560095e-01,  6.59343753e-01,\n",
       "       -4.19594273e-01,  2.79542932e-01, -3.41565727e-01, -2.73456601e-01,\n",
       "        7.30401186e-01,  1.30740658e+00,  3.20441122e-01, -9.54946176e-01,\n",
       "        2.33937218e-02, -1.45182775e+00,  6.43282983e-01, -7.29226805e-01,\n",
       "        1.80655918e+00, -8.08397748e-01, -1.15010936e+00,  1.05889712e+00,\n",
       "       -2.43221812e-01,  1.18949486e+00, -2.24717423e-01, -6.26541038e-01,\n",
       "       -3.57492533e-01, -2.65923390e-01, -4.08132585e-01,  4.80979873e-01,\n",
       "       -1.09875987e+00, -2.14081486e+00, -9.66749221e-01, -8.37798645e-01,\n",
       "       -3.16631057e-01,  1.49500708e-01, -1.10558032e-01, -1.61134777e-01,\n",
       "       -5.86886896e-01, -4.17781084e-01,  8.55000762e-01, -1.46831108e+00,\n",
       "       -2.92108905e-01, -1.63046223e+00,  1.02498376e+00, -8.05851242e-01,\n",
       "        1.81140926e+00, -3.45250150e-01, -8.02591802e-01,  7.45517331e-01,\n",
       "        6.58486796e-01,  1.89064175e-01,  1.00987123e+00, -2.89670473e-01,\n",
       "        5.82138626e-01, -1.09897383e+00, -1.04577252e-01,  1.10711641e+00,\n",
       "       -1.68850660e+00, -1.98486876e+00, -7.40741191e-01, -2.12975628e+00,\n",
       "        1.53345266e+00, -3.37513832e-01, -3.87680477e-01,  4.21187241e-01,\n",
       "        1.35701028e-01,  1.28579154e+00, -1.02595749e+00,  8.91568025e-01,\n",
       "        3.51638033e-01, -8.24994878e-01, -1.14285886e+00,  1.10943825e+00,\n",
       "       -1.00853766e+00,  1.97217715e-01, -3.35938265e-01,  1.88157452e+00,\n",
       "       -8.62735884e-01, -1.06403675e+00,  5.43715788e-01,  1.10450082e+00,\n",
       "        5.69305358e-01, -9.07310756e-01,  1.58825542e+00, -6.31392496e-01,\n",
       "        1.45096383e+00, -4.24750775e-02, -8.69211784e-01,  7.12977475e-01,\n",
       "       -4.53374222e-01,  1.80687627e+00,  5.61762519e-01, -4.32058745e-01,\n",
       "       -8.04686540e-01, -8.64383174e-01, -3.43539574e-01, -2.71177147e-01,\n",
       "       -2.78204275e-01,  1.48691724e-01, -1.12266967e-01,  3.42059394e-01,\n",
       "        1.40614145e-01,  5.47176818e-01,  7.11332935e-01, -4.92358066e-01,\n",
       "       -8.13541638e-01,  1.74378977e-01,  1.84369401e+00, -2.85156780e-01,\n",
       "       -9.15230790e-01,  6.05602139e-02, -1.57220339e+00, -2.14481532e+00,\n",
       "       -8.30017100e-01,  1.96816375e+00, -1.66574654e+00, -3.36483966e-01,\n",
       "       -5.45625499e-01, -5.55624272e-01,  9.54853680e-01, -4.05661926e-02,\n",
       "        1.22053978e+00,  3.05357187e-01,  1.28190301e+00, -2.07134733e+00,\n",
       "       -2.84567073e-02, -7.99402465e-02,  1.06238627e-01,  2.82233181e-01,\n",
       "       -3.53658924e-01,  9.53018914e-02, -1.15145869e-01,  1.38065322e+00,\n",
       "        9.35865387e-01,  2.10000059e-01,  5.09420961e-01, -5.79392280e-01,\n",
       "        3.33009194e-01,  3.20665720e-01, -8.79302831e-01,  4.03292723e-01,\n",
       "       -1.60179543e+00,  7.25373294e-01, -7.47658795e-01,  1.01229638e+00,\n",
       "       -7.86521916e-01, -1.24138220e+00, -5.31996397e-01, -9.34269569e-02,\n",
       "       -6.81333358e-01, -4.79821561e-01,  3.28455059e-01,  1.15714644e+00,\n",
       "        1.82979286e+00,  2.60090447e-02,  6.51505450e-01,  4.41437176e-02,\n",
       "        7.05636030e-01,  1.10225412e-01, -4.22624471e-01, -3.87994455e-01,\n",
       "       -9.65285794e-01, -1.40125915e+00, -1.42237124e-01, -5.12363538e-01,\n",
       "       -1.16616136e+00, -3.96333665e-01,  4.15179547e-01, -1.11753278e+00,\n",
       "       -4.45779217e-01,  8.90347710e-01,  1.71224768e+00,  1.55617359e-01,\n",
       "       -1.40071094e+00, -6.26867302e-01, -9.49852576e-01, -5.34330937e-02,\n",
       "        2.58827946e-01, -6.46869759e-01, -1.09374216e+00,  1.62291671e-01,\n",
       "        1.16001399e+00, -4.04375689e-01,  4.91984290e-01, -9.15419961e-01,\n",
       "        5.08022657e-01, -1.33145293e-03, -2.92707214e-01,  1.04492628e+00,\n",
       "        2.64337757e-01, -1.69332041e+00, -1.71313771e-01,  5.47581561e-01,\n",
       "        1.50332514e-01, -4.36995229e-02, -4.00940746e-02, -1.52729809e+00,\n",
       "        1.89132810e+00,  8.84417725e-01,  5.88805589e-01,  2.10605815e-01,\n",
       "       -1.09318954e-01, -1.92892140e-01, -1.14085281e-01,  1.31001400e+00,\n",
       "       -2.09433256e-01, -1.07913178e-03,  1.67109439e-01,  1.45380148e+00,\n",
       "       -1.79991693e+00, -2.04625481e-01,  5.57191951e-01,  1.22783220e+00,\n",
       "       -4.48117950e-01,  1.02965884e+00,  5.58237774e-01,  1.67953841e+00,\n",
       "       -1.01770493e-01, -9.82752683e-01, -6.23822805e-01, -3.96119590e-01,\n",
       "        1.74094683e+00,  9.90389039e-01,  1.90631854e+00,  1.66997657e+00,\n",
       "        1.40513817e+00, -1.49367568e+00,  3.71958869e-01, -1.25498386e+00,\n",
       "        1.50913002e+00, -1.06923104e+00,  1.45236973e+00,  5.92963373e-01,\n",
       "        9.05065677e-01,  3.73253001e-02, -1.12360257e-01,  1.91124365e+00,\n",
       "       -1.57822396e+00,  7.01080473e-01, -6.62022691e-01,  1.52162009e+00,\n",
       "       -4.19450328e-01, -4.84996832e-01,  7.52999997e-01,  1.71839591e+00,\n",
       "       -5.73024064e-01,  1.18221407e-01, -5.41947062e-01, -1.00472263e+00,\n",
       "       -8.55623265e-01, -6.27459627e-01,  2.41054396e-02,  1.19136644e+00,\n",
       "        2.62503622e-01,  3.20637558e-01, -1.93190822e-01,  5.43214096e-02,\n",
       "       -7.22371477e-01,  2.88004385e-01, -1.25141582e+00, -4.87954661e-01,\n",
       "       -1.29320112e+00,  1.84261423e+00, -1.99775556e-01, -5.03817644e-01,\n",
       "       -4.25786824e-01, -7.92296169e-02,  3.84729734e-01,  6.55804240e-01,\n",
       "       -1.49670597e+00, -9.72566248e-01,  2.82525818e-01, -2.82928232e-01,\n",
       "       -1.28831588e+00,  7.00338630e-01,  1.40748234e+00, -1.60028640e+00,\n",
       "       -1.21564094e-01, -1.93389064e+00,  4.18886329e-01,  5.00687324e-01,\n",
       "       -1.04814291e+00, -1.04482878e-02,  3.14402891e-02, -1.33053880e-01,\n",
       "        7.06620719e-03, -2.20639614e-01, -1.35002353e+00, -3.75805430e-01,\n",
       "       -1.77047653e-01,  2.46270086e-01,  7.18986648e-01,  5.51503184e-01])"
      ]
     },
     "execution_count": 54,
     "metadata": {},
     "output_type": "execute_result"
    }
   ],
   "source": [
    "y_pred"
   ]
  },
  {
   "cell_type": "code",
   "execution_count": 55,
   "metadata": {},
   "outputs": [
    {
     "data": {
      "text/plain": [
       "array([[ 1.87263841e+00],\n",
       "       [ 1.43907530e+00],\n",
       "       [-9.20018082e-01],\n",
       "       [ 2.14897113e-01],\n",
       "       [ 1.87263841e+00],\n",
       "       [ 2.21273041e-01],\n",
       "       [ 3.04160106e-01],\n",
       "       [ 4.06174955e-01],\n",
       "       [ 6.22956509e-01],\n",
       "       [-4.92830902e-01],\n",
       "       [ 1.51558644e+00],\n",
       "       [-1.29403002e-01],\n",
       "       [-4.48199405e-01],\n",
       "       [-8.37131017e-01],\n",
       "       [-7.92499520e-01],\n",
       "       [ 1.29242896e+00],\n",
       "       [-1.28344598e+00],\n",
       "       [-8.88138441e-01],\n",
       "       [-1.27707005e+00],\n",
       "       [-9.75233619e-02],\n",
       "       [ 1.47733087e+00],\n",
       "       [ 1.87263841e+00],\n",
       "       [-5.75717966e-01],\n",
       "       [-1.93162283e-01],\n",
       "       [-5.56590182e-01],\n",
       "       [-7.35116168e-01],\n",
       "       [-3.33432700e-01],\n",
       "       [-4.80079045e-01],\n",
       "       [ 5.46445372e-01],\n",
       "       [-3.52560484e-01],\n",
       "       [ 6.82507677e-02],\n",
       "       [ 1.78337542e+00],\n",
       "       [-9.32769938e-01],\n",
       "       [ 1.76424763e+00],\n",
       "       [-1.70425723e+00],\n",
       "       [ 2.46776753e-01],\n",
       "       [ 1.58572165e+00],\n",
       "       [-2.06130920e+00],\n",
       "       [-1.36633305e+00],\n",
       "       [ 5.78325012e-01],\n",
       "       [-2.05914139e-01],\n",
       "       [ 1.25634120e-01],\n",
       "       [ 2.08521185e-01],\n",
       "       [-1.78714430e+00],\n",
       "       [-2.05914139e-01],\n",
       "       [-9.11474338e-02],\n",
       "       [-6.52229103e-01],\n",
       "       [-1.65324981e+00],\n",
       "       [ 5.14565732e-01],\n",
       "       [-4.03567909e-01],\n",
       "       [-1.10275218e-01],\n",
       "       [ 1.05651962e+00],\n",
       "       [ 6.03828725e-01],\n",
       "       [ 4.27470555e-02],\n",
       "       [-4.22695693e-01],\n",
       "       [-1.51297939e+00],\n",
       "       [-2.73881532e-02],\n",
       "       [-6.01221679e-01],\n",
       "       [-1.57673867e+00],\n",
       "       [ 1.87263841e+00],\n",
       "       [-4.99206830e-01],\n",
       "       [ 1.87263841e+00],\n",
       "       [-5.92677935e-02],\n",
       "       [-1.75526466e+00],\n",
       "       [ 6.16580581e-01],\n",
       "       [-2.63297491e-01],\n",
       "       [-7.79747664e-01],\n",
       "       [-7.15988384e-01],\n",
       "       [ 1.06506336e-01],\n",
       "       [ 1.12882264e-01],\n",
       "       [ 3.80671243e-01],\n",
       "       [ 6.67588005e-01],\n",
       "       [-3.97191981e-01],\n",
       "       [ 3.16911962e-01],\n",
       "       [-3.39808628e-01],\n",
       "       [-2.44169707e-01],\n",
       "       [ 7.44099142e-01],\n",
       "       [ 1.41357159e+00],\n",
       "       [ 4.06174955e-01],\n",
       "       [-9.51897722e-01],\n",
       "       [ 6.18748396e-02],\n",
       "       [-1.43646825e+00],\n",
       "       [ 6.16580581e-01],\n",
       "       [-7.66995808e-01],\n",
       "       [ 1.87263841e+00],\n",
       "       [-7.41492096e-01],\n",
       "       [-1.08579221e+00],\n",
       "       [ 1.09477519e+00],\n",
       "       [-2.37793779e-01],\n",
       "       [ 1.12027890e+00],\n",
       "       [-2.12290067e-01],\n",
       "       [-6.71356887e-01],\n",
       "       [-3.58936412e-01],\n",
       "       [-2.50545635e-01],\n",
       "       [-3.07928988e-01],\n",
       "       [ 5.52821300e-01],\n",
       "       [-1.06666443e+00],\n",
       "       [-2.18882777e+00],\n",
       "       [-1.06666443e+00],\n",
       "       [-7.79747664e-01],\n",
       "       [-2.82425276e-01],\n",
       "       [ 2.02145257e-01],\n",
       "       [-1.29403002e-01],\n",
       "       [-1.48530786e-01],\n",
       "       [-5.82093894e-01],\n",
       "       [-6.52229103e-01],\n",
       "       [ 8.26986207e-01],\n",
       "       [-1.84452765e+00],\n",
       "       [-2.50545635e-01],\n",
       "       [-1.96567028e+00],\n",
       "       [ 1.08202333e+00],\n",
       "       [-6.64980959e-01],\n",
       "       [ 1.87263841e+00],\n",
       "       [-3.52560484e-01],\n",
       "       [-7.66995808e-01],\n",
       "       [ 7.56850998e-01],\n",
       "       [ 5.97452797e-01],\n",
       "       [ 1.38385976e-01],\n",
       "       [ 9.29001056e-01],\n",
       "       [-2.44169707e-01],\n",
       "       [ 9.73632552e-01],\n",
       "       [-1.03478479e+00],\n",
       "       [-9.75233619e-02],\n",
       "       [ 1.09477519e+00],\n",
       "       [-1.72338502e+00],\n",
       "       [-2.09318884e+00],\n",
       "       [-7.22364312e-01],\n",
       "       [-2.04855735e+00],\n",
       "       [ 1.62397721e+00],\n",
       "       [-2.63297491e-01],\n",
       "       [-3.39808628e-01],\n",
       "       [ 4.12550883e-01],\n",
       "       [ 1.89393401e-01],\n",
       "       [ 1.61122536e+00],\n",
       "       [-1.00928107e+00],\n",
       "       [ 8.46113991e-01],\n",
       "       [ 4.31678667e-01],\n",
       "       [-8.62634729e-01],\n",
       "       [-1.14317556e+00],\n",
       "       [ 1.10115111e+00],\n",
       "       [-1.04753664e+00],\n",
       "       [ 2.34024897e-01],\n",
       "       [-3.33432700e-01],\n",
       "       [ 1.87263841e+00],\n",
       "       [-8.62634729e-01],\n",
       "       [-1.07941628e+00],\n",
       "       [ 5.84700941e-01],\n",
       "       [ 1.07564740e+00],\n",
       "       [ 5.84700941e-01],\n",
       "       [-1.13679964e+00],\n",
       "       [ 1.59209757e+00],\n",
       "       [-6.33101319e-01],\n",
       "       [ 1.49645865e+00],\n",
       "       [ 2.36192713e-02],\n",
       "       [-7.86123592e-01],\n",
       "       [ 7.63226926e-01],\n",
       "       [-3.46184556e-01],\n",
       "       [ 1.87263841e+00],\n",
       "       [ 6.48460221e-01],\n",
       "       [-4.09943837e-01],\n",
       "       [-7.92499520e-01],\n",
       "       [-9.58273650e-01],\n",
       "       [-1.67658571e-01],\n",
       "       [-2.88801204e-01],\n",
       "       [-3.27056772e-01],\n",
       "       [ 1.89393401e-01],\n",
       "       [-5.28918654e-02],\n",
       "       [ 3.61543458e-01],\n",
       "       [ 2.72280466e-01],\n",
       "       [ 5.33693516e-01],\n",
       "       [ 7.37723214e-01],\n",
       "       [-4.54575333e-01],\n",
       "       [-7.60619880e-01],\n",
       "       [ 1.63889689e-01],\n",
       "       [ 1.87263841e+00],\n",
       "       [-2.63297491e-01],\n",
       "       [-8.81762513e-01],\n",
       "       [ 1.32010048e-01],\n",
       "       [-1.46834789e+00],\n",
       "       [-2.27171483e+00],\n",
       "       [-8.24379161e-01],\n",
       "       [ 1.87263841e+00],\n",
       "       [-1.52573125e+00],\n",
       "       [-3.33432700e-01],\n",
       "       [-5.18334614e-01],\n",
       "       [-5.94845751e-01],\n",
       "       [ 9.35376984e-01],\n",
       "       [-4.65159374e-02],\n",
       "       [ 1.22866967e+00],\n",
       "       [ 3.04160106e-01],\n",
       "       [ 1.37531602e+00],\n",
       "       [-2.28446669e+00],\n",
       "       [ 4.49148710e-03],\n",
       "       [-1.16651146e-01],\n",
       "       [ 1.57513761e-01],\n",
       "       [ 3.36039746e-01],\n",
       "       [-3.78064196e-01],\n",
       "       [ 1.19258192e-01],\n",
       "       [-7.20196496e-02],\n",
       "       [ 1.31155674e+00],\n",
       "       [ 1.00551219e+00],\n",
       "       [ 2.08521185e-01],\n",
       "       [ 5.33693516e-01],\n",
       "       [-5.37462398e-01],\n",
       "       [ 2.78656394e-01],\n",
       "       [ 3.36039746e-01],\n",
       "       [-8.88138441e-01],\n",
       "       [ 4.89062020e-01],\n",
       "       [-1.46197197e+00],\n",
       "       [ 8.01482495e-01],\n",
       "       [-7.60619880e-01],\n",
       "       [ 1.17766225e+00],\n",
       "       [-7.79747664e-01],\n",
       "       [-1.21968670e+00],\n",
       "       [-5.31086470e-01],\n",
       "       [-5.92677935e-02],\n",
       "       [-6.52229103e-01],\n",
       "       [-4.22695693e-01],\n",
       "       [ 3.48791602e-01],\n",
       "       [ 1.17766225e+00],\n",
       "       [ 1.87263841e+00],\n",
       "       [ 2.99951993e-02],\n",
       "       [ 7.12219502e-01],\n",
       "       [ 1.00130408e-01],\n",
       "       [ 7.12219502e-01],\n",
       "       [ 1.38385976e-01],\n",
       "       [-4.67327189e-01],\n",
       "       [-4.09943837e-01],\n",
       "       [-9.32769938e-01],\n",
       "       [-1.32170155e+00],\n",
       "       [-1.10275218e-01],\n",
       "       [-5.11958686e-01],\n",
       "       [-1.22606263e+00],\n",
       "       [-5.69342038e-01],\n",
       "       [ 3.61543458e-01],\n",
       "       [-1.13679964e+00],\n",
       "       [-4.29071621e-01],\n",
       "       [ 8.07858423e-01],\n",
       "       [ 1.78975134e+00],\n",
       "       [ 1.76641545e-01],\n",
       "       [-1.48109975e+00],\n",
       "       [-5.62966110e-01],\n",
       "       [-7.66995808e-01],\n",
       "       [-4.65159374e-02],\n",
       "       [ 2.53152681e-01],\n",
       "       [-6.13973535e-01],\n",
       "       [-1.04753664e+00],\n",
       "       [ 2.14897113e-01],\n",
       "       [ 1.17766225e+00],\n",
       "       [-5.94845751e-01],\n",
       "       [ 6.29332437e-01],\n",
       "       [-8.88138441e-01],\n",
       "       [ 4.76310164e-01],\n",
       "       [ 2.36192713e-02],\n",
       "       [-3.46184556e-01],\n",
       "       [ 1.01188812e+00],\n",
       "       [ 3.10536034e-01],\n",
       "       [-1.57036274e+00],\n",
       "       [-1.67658571e-01],\n",
       "       [ 5.08189804e-01],\n",
       "       [ 2.08521185e-01],\n",
       "       [ 4.49148710e-03],\n",
       "       [-8.47715057e-02],\n",
       "       [-1.55123496e+00],\n",
       "       [ 1.87263841e+00],\n",
       "       [ 8.71617703e-01],\n",
       "       [ 6.03828725e-01],\n",
       "       [ 2.08521185e-01],\n",
       "       [-1.29403002e-01],\n",
       "       [-1.35778930e-01],\n",
       "       [-2.10122251e-02],\n",
       "       [ 1.30518081e+00],\n",
       "       [-1.42154858e-01],\n",
       "       [-1.88444096e-03],\n",
       "       [ 2.02145257e-01],\n",
       "       [ 1.37531602e+00],\n",
       "       [-1.69788130e+00],\n",
       "       [-1.29403002e-01],\n",
       "       [ 5.52821300e-01],\n",
       "       [ 1.87263841e+00],\n",
       "       [-3.71688268e-01],\n",
       "       [ 1.01826405e+00],\n",
       "       [ 5.14565732e-01],\n",
       "       [ 1.87263841e+00],\n",
       "       [-1.10275218e-01],\n",
       "       [-9.32769938e-01],\n",
       "       [-5.94845751e-01],\n",
       "       [-3.33432700e-01],\n",
       "       [ 1.87263841e+00],\n",
       "       [ 9.09873272e-01],\n",
       "       [ 1.87263841e+00],\n",
       "       [ 1.87263841e+00],\n",
       "       [ 1.39444380e+00],\n",
       "       [-1.48747568e+00],\n",
       "       [ 6.73963933e-01],\n",
       "       [-1.28344598e+00],\n",
       "       [ 1.41357159e+00],\n",
       "       [-1.00928107e+00],\n",
       "       [ 1.48370680e+00],\n",
       "       [ 5.52821300e-01],\n",
       "       [ 1.87263841e+00],\n",
       "       [ 6.18748396e-02],\n",
       "       [-6.56437216e-02],\n",
       "       [ 1.87263841e+00],\n",
       "       [-1.43646825e+00],\n",
       "       [ 7.95106567e-01],\n",
       "       [-6.45853175e-01],\n",
       "       [ 1.45820308e+00],\n",
       "       [-4.80079045e-01],\n",
       "       [-5.05582758e-01],\n",
       "       [ 6.93091718e-01],\n",
       "       [ 1.60484943e+00],\n",
       "       [-4.80079045e-01],\n",
       "       [ 1.25634120e-01],\n",
       "       [-5.18334614e-01],\n",
       "       [-1.06028850e+00],\n",
       "       [-7.86123592e-01],\n",
       "       [-6.07597607e-01],\n",
       "       [ 5.54989116e-02],\n",
       "       [ 1.20954189e+00],\n",
       "       [ 2.40400825e-01],\n",
       "       [ 2.65904538e-01],\n",
       "       [-8.47715057e-02],\n",
       "       [ 2.99951993e-02],\n",
       "       [-7.35116168e-01],\n",
       "       [ 2.91408250e-01],\n",
       "       [-1.16230335e+00],\n",
       "       [-5.50214254e-01],\n",
       "       [-1.25156634e+00],\n",
       "       [ 1.87263841e+00],\n",
       "       [-1.23027074e-01],\n",
       "       [-5.43838326e-01],\n",
       "       [-5.31086470e-01],\n",
       "       [-6.56437216e-02],\n",
       "       [ 5.20941660e-01],\n",
       "       [ 6.54836149e-01],\n",
       "       [-1.43646825e+00],\n",
       "       [-8.75386585e-01],\n",
       "       [ 2.91408250e-01],\n",
       "       [-2.31417851e-01],\n",
       "       [-1.24519041e+00],\n",
       "       [ 6.93091718e-01],\n",
       "       [ 1.44545123e+00],\n",
       "       [-1.55761089e+00],\n",
       "       [-8.47715057e-02],\n",
       "       [-1.86365543e+00],\n",
       "       [ 3.74295315e-01],\n",
       "       [ 5.27317588e-01],\n",
       "       [-1.02840886e+00],\n",
       "       [ 1.08674152e-02],\n",
       "       [-8.47715057e-02],\n",
       "       [-8.47715057e-02],\n",
       "       [-1.88444096e-03],\n",
       "       [-5.28918654e-02],\n",
       "       [-1.39821269e+00],\n",
       "       [-3.27056772e-01],\n",
       "       [-2.18665995e-01],\n",
       "       [ 2.40400825e-01],\n",
       "       [ 6.48460221e-01],\n",
       "       [ 6.54836149e-01]])"
      ]
     },
     "execution_count": 55,
     "metadata": {},
     "output_type": "execute_result"
    }
   ],
   "source": [
    "y_test"
   ]
  },
  {
   "cell_type": "code",
   "execution_count": 57,
   "metadata": {},
   "outputs": [
    {
     "name": "stdout",
     "output_type": "stream",
     "text": [
      "accuracy score: 0.9884879487662313\n"
     ]
    }
   ],
   "source": [
    "# Need to wrap my head around this (where's the predictor)\n",
    "# https://towardsdatascience.com/machine-learning-basics-support-vector-regression-660306ac5226\n",
    "print(\"accuracy score:\", regressor.score(X_test, y_test))"
   ]
  },
  {
   "cell_type": "code",
   "execution_count": null,
   "metadata": {},
   "outputs": [],
   "source": []
  }
 ],
 "metadata": {
  "kernelspec": {
   "display_name": "Python 3",
   "language": "python",
   "name": "python3"
  },
  "language_info": {
   "codemirror_mode": {
    "name": "ipython",
    "version": 3
   },
   "file_extension": ".py",
   "mimetype": "text/x-python",
   "name": "python",
   "nbconvert_exporter": "python",
   "pygments_lexer": "ipython3",
   "version": "3.7.3"
  }
 },
 "nbformat": 4,
 "nbformat_minor": 2
}
