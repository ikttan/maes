{
 "cells": [
  {
   "cell_type": "markdown",
   "metadata": {},
   "source": [
    "## This notebook generates all the QWK scores for set 1 to 8 using the features csv files found in 'features' directory"
   ]
  },
  {
   "cell_type": "markdown",
   "metadata": {},
   "source": [
    "Note that these QWK scores do not include domain adaptation yet\n",
    "\n",
    "All implementation are obtained from maes.ipynb"
   ]
  },
  {
   "cell_type": "markdown",
   "metadata": {},
   "source": [
    "## Importing Libraries"
   ]
  },
  {
   "cell_type": "code",
   "execution_count": 1,
   "metadata": {},
   "outputs": [],
   "source": [
    "import numpy as np\n",
    "import pandas as pd\n",
    "from collections import defaultdict\n",
    "\n",
    "from nltk import pos_tag\n",
    "from nltk.tokenize import word_tokenize\n",
    "from nltk.corpus import stopwords\n",
    "from nltk.corpus import wordnet as wn\n",
    "from nltk.stem import WordNetLemmatizer\n",
    "\n",
    "from sklearn.preprocessing import LabelEncoder\n",
    "from sklearn.feature_extraction.text import TfidfVectorizer\n",
    "from sklearn import model_selection, naive_bayes, svm #SVR is in SVM\n",
    "from sklearn.metrics import accuracy_score, confusion_matrix\n",
    "from sklearn.preprocessing import StandardScaler, MinMaxScaler\n",
    "from sklearn.metrics import cohen_kappa_score\n",
    "from sklearn.model_selection import train_test_split"
   ]
  },
  {
   "cell_type": "markdown",
   "metadata": {},
   "source": [
    "## Run Naive Bayes Model"
   ]
  },
  {
   "cell_type": "code",
   "execution_count": 129,
   "metadata": {},
   "outputs": [],
   "source": [
    "def qwk_nb(x_train, x_test, y_train, y_test):\n",
    "    # Preprocess\n",
    "    x_trainNB = x_train\n",
    "    y_trainNB = y_train\n",
    "    x_testNB = x_test\n",
    "    y_testNB = y_test\n",
    "\n",
    "    # Fit the model\n",
    "    model_nb = naive_bayes.MultinomialNB()\n",
    "    model_nb.fit(x_trainNB, y_trainNB.ravel())\n",
    "    \n",
    "    # Get predicted scores\n",
    "    y_predNB = model_nb.predict(x_testNB)\n",
    "    \n",
    "    # Get QWK score\n",
    "    score = cohen_kappa_score(y_test, y_predNB, weights=\"quadratic\")\n",
    "    return score, y_predNB"
   ]
  },
  {
   "cell_type": "markdown",
   "metadata": {},
   "source": [
    "## Run SVM Model"
   ]
  },
  {
   "cell_type": "code",
   "execution_count": 136,
   "metadata": {},
   "outputs": [],
   "source": [
    "def qwk_svm(x_train, x_test, y_train, y_test):\n",
    "    # Preprocess\n",
    "    sc_Xsvm = StandardScaler()\n",
    "    sc_ysvm = StandardScaler()\n",
    "    x_trainSVM = sc_Xsvm.fit_transform(x_train)\n",
    "    y_trainSVM = sc_ysvm.fit_transform(y_train)\n",
    "    x_testSVM = sc_Xsvm.transform(x_test)\n",
    "    y_testSVM = sc_ysvm.transform(y_test)\n",
    "    \n",
    "    # Fit the model\n",
    "    from sklearn.svm import SVR\n",
    "    model_svm = SVR(kernel='rbf', gamma='auto', verbose=True)\n",
    "    model_svm.fit(x_trainSVM, y_trainSVM.ravel())\n",
    "    \n",
    "    # Get predicted scores\n",
    "    y_predSVM = model_svm.predict(x_testSVM)\n",
    "    y_predSVM = sc_ysvm.inverse_transform(y_predSVM).round()\n",
    "\n",
    "    # Get QWK score\n",
    "    score = cohen_kappa_score(y_test, y_predSVM, weights=\"quadratic\")\n",
    "    return score, y_predSVM"
   ]
  },
  {
   "cell_type": "markdown",
   "metadata": {},
   "source": [
    "## Run BLRR Model"
   ]
  },
  {
   "cell_type": "code",
   "execution_count": 143,
   "metadata": {},
   "outputs": [],
   "source": [
    "def qwk_blrr(x_train, x_test, y_train, y_test):\n",
    "    # Preprocess\n",
    "    sc_Xblrr = StandardScaler()\n",
    "    sc_yblrr = StandardScaler()\n",
    "    x_trainBLRR = sc_Xblrr.fit_transform(x_train)\n",
    "    y_trainBLRR = sc_yblrr.fit_transform(y_train)\n",
    "    x_testBLRR = sc_Xblrr.transform(x_test)\n",
    "    y_testBLRR = sc_yblrr.transform(y_test)\n",
    "    \n",
    "    # Fit the model\n",
    "    from sklearn import linear_model\n",
    "    model_blrr = linear_model.BayesianRidge()\n",
    "    model_blrr.fit(x_trainBLRR, y_trainBLRR.ravel())\n",
    "    \n",
    "    # Get predicted scores\n",
    "    y_predBLRR = model_blrr.predict(x_testBLRR)\n",
    "    y_predBLRR = sc_yblrr.inverse_transform(y_predBLRR).round()\n",
    "\n",
    "    # Get QWK score\n",
    "    score = cohen_kappa_score(y_test, y_predBLRR, weights=\"quadratic\")\n",
    "    return score, y_predBLRR"
   ]
  },
  {
   "cell_type": "markdown",
   "metadata": {},
   "source": [
    "## Run Ensemble Model"
   ]
  },
  {
   "cell_type": "code",
   "execution_count": 138,
   "metadata": {},
   "outputs": [],
   "source": [
    "def qwk_ensemble(y_test, y_predNB, y_predSVM, y_predBLRR):\n",
    "    # Preprocess\n",
    "    actual = pd.Series(y_test.ravel())\n",
    "    predNB = pd.Series(y_predNB)\n",
    "    predSVM = pd.Series(y_predSVM)\n",
    "    predBLRR = pd.Series(y_predBLRR)\n",
    "\n",
    "    data = {\"Actual\": actual,\n",
    "            \"NB\": predNB, \n",
    "            \"SVM\": predSVM, \n",
    "            \"BLRR\": predBLRR} \n",
    "    results = pd.concat(data, axis=1)\n",
    "    \n",
    "    # Ensembling process\n",
    "    results['Ensemble'] = np.where(\n",
    "                            (results['NB'] == results['BLRR']) |\n",
    "                            (results['NB'] == results['SVM']),\n",
    "                            results['NB'],\n",
    "                            results['BLRR'])\n",
    "\n",
    "    # Get QWK score\n",
    "    score = cohen_kappa_score(y_test, results['Ensemble'], weights=\"quadratic\")\n",
    "    return score, results['Ensemble']"
   ]
  },
  {
   "cell_type": "markdown",
   "metadata": {},
   "source": [
    "## Getting QWK scores for all sets"
   ]
  },
  {
   "cell_type": "code",
   "execution_count": 157,
   "metadata": {},
   "outputs": [],
   "source": [
    "def get_qwk_score(set_no):\n",
    "    # Read input features file\n",
    "    input_file = 'features/features_set' + str(set_no) + '.csv'\n",
    "    dataset = pd.read_csv(input_file)\n",
    "     \n",
    "    # Reshape data and model \n",
    "    X = dataset.iloc[:,1:16].values.astype(float)\n",
    "    y = dataset.iloc[:,18].values.astype(float)\n",
    "    y = np.array(y).reshape(-1,1)\n",
    "    \n",
    "    # Split dataset into train and test set\n",
    "    X_train, X_test, y_train, y_test = train_test_split(X, y, test_size=0.2, random_state=0)\n",
    "    \n",
    "    # Getting the QWK scores for all methods\n",
    "    nb_score, y_predNB = qwk_nb(X_train, X_test, y_train, y_test)\n",
    "    svm_score, y_predSVM = qwk_svm(X_train, X_test, y_train, y_test)\n",
    "    blrr_score, y_predBLRR = qwk_blrr(X_train, X_test, y_train, y_test)\n",
    "    ensemble_score, y_predEnsemble = qwk_ensemble(y_test, y_predNB, y_predSVM, y_predBLRR)\n",
    "    \n",
    "    return set_no, blrr_score, svm_score, nb_score, ensemble_score"
   ]
  },
  {
   "cell_type": "code",
   "execution_count": 165,
   "metadata": {},
   "outputs": [
    {
     "name": "stdout",
     "output_type": "stream",
     "text": [
      "[LibSVM][LibSVM][LibSVM][LibSVM][LibSVM][LibSVM][LibSVM][LibSVM]"
     ]
    }
   ],
   "source": [
    "scores = []\n",
    "for set_no in range(1, 9):\n",
    "    scores.append(get_qwk_score(set_no))"
   ]
  },
  {
   "cell_type": "code",
   "execution_count": 166,
   "metadata": {},
   "outputs": [
    {
     "data": {
      "text/html": [
       "<div>\n",
       "<style scoped>\n",
       "    .dataframe tbody tr th:only-of-type {\n",
       "        vertical-align: middle;\n",
       "    }\n",
       "\n",
       "    .dataframe tbody tr th {\n",
       "        vertical-align: top;\n",
       "    }\n",
       "\n",
       "    .dataframe thead th {\n",
       "        text-align: right;\n",
       "    }\n",
       "</style>\n",
       "<table border=\"1\" class=\"dataframe\">\n",
       "  <thead>\n",
       "    <tr style=\"text-align: right;\">\n",
       "      <th></th>\n",
       "      <th>Set</th>\n",
       "      <th>BLRR</th>\n",
       "      <th>SVM</th>\n",
       "      <th>NB</th>\n",
       "      <th>Ensemble</th>\n",
       "    </tr>\n",
       "  </thead>\n",
       "  <tbody>\n",
       "    <tr>\n",
       "      <th>0</th>\n",
       "      <td>1</td>\n",
       "      <td>0.817064</td>\n",
       "      <td>0.799501</td>\n",
       "      <td>0.800366</td>\n",
       "      <td>0.826096</td>\n",
       "    </tr>\n",
       "    <tr>\n",
       "      <th>1</th>\n",
       "      <td>2</td>\n",
       "      <td>0.586017</td>\n",
       "      <td>0.547739</td>\n",
       "      <td>0.640441</td>\n",
       "      <td>0.610858</td>\n",
       "    </tr>\n",
       "    <tr>\n",
       "      <th>2</th>\n",
       "      <td>3</td>\n",
       "      <td>0.645550</td>\n",
       "      <td>0.668943</td>\n",
       "      <td>0.633179</td>\n",
       "      <td>0.680847</td>\n",
       "    </tr>\n",
       "    <tr>\n",
       "      <th>3</th>\n",
       "      <td>4</td>\n",
       "      <td>0.692826</td>\n",
       "      <td>0.706158</td>\n",
       "      <td>0.710284</td>\n",
       "      <td>0.720952</td>\n",
       "    </tr>\n",
       "    <tr>\n",
       "      <th>4</th>\n",
       "      <td>5</td>\n",
       "      <td>0.789499</td>\n",
       "      <td>0.802743</td>\n",
       "      <td>0.780260</td>\n",
       "      <td>0.809514</td>\n",
       "    </tr>\n",
       "    <tr>\n",
       "      <th>5</th>\n",
       "      <td>6</td>\n",
       "      <td>0.668089</td>\n",
       "      <td>0.639169</td>\n",
       "      <td>0.639359</td>\n",
       "      <td>0.649767</td>\n",
       "    </tr>\n",
       "    <tr>\n",
       "      <th>6</th>\n",
       "      <td>7</td>\n",
       "      <td>0.715227</td>\n",
       "      <td>0.743958</td>\n",
       "      <td>0.669716</td>\n",
       "      <td>0.717442</td>\n",
       "    </tr>\n",
       "    <tr>\n",
       "      <th>7</th>\n",
       "      <td>8</td>\n",
       "      <td>0.620724</td>\n",
       "      <td>0.640928</td>\n",
       "      <td>0.577474</td>\n",
       "      <td>0.634011</td>\n",
       "    </tr>\n",
       "  </tbody>\n",
       "</table>\n",
       "</div>"
      ],
      "text/plain": [
       "   Set      BLRR       SVM        NB  Ensemble\n",
       "0    1  0.817064  0.799501  0.800366  0.826096\n",
       "1    2  0.586017  0.547739  0.640441  0.610858\n",
       "2    3  0.645550  0.668943  0.633179  0.680847\n",
       "3    4  0.692826  0.706158  0.710284  0.720952\n",
       "4    5  0.789499  0.802743  0.780260  0.809514\n",
       "5    6  0.668089  0.639169  0.639359  0.649767\n",
       "6    7  0.715227  0.743958  0.669716  0.717442\n",
       "7    8  0.620724  0.640928  0.577474  0.634011"
      ]
     },
     "execution_count": 166,
     "metadata": {},
     "output_type": "execute_result"
    }
   ],
   "source": [
    "scores_df = pd.DataFrame(scores, columns=['Set', 'BLRR', 'SVM', 'NB', 'Ensemble'])\n",
    "scores_df"
   ]
  },
  {
   "cell_type": "code",
   "execution_count": null,
   "metadata": {},
   "outputs": [],
   "source": []
  }
 ],
 "metadata": {
  "kernelspec": {
   "display_name": "Python 3",
   "language": "python",
   "name": "python3"
  },
  "language_info": {
   "codemirror_mode": {
    "name": "ipython",
    "version": 3
   },
   "file_extension": ".py",
   "mimetype": "text/x-python",
   "name": "python",
   "nbconvert_exporter": "python",
   "pygments_lexer": "ipython3",
   "version": "3.7.4"
  }
 },
 "nbformat": 4,
 "nbformat_minor": 4
}
